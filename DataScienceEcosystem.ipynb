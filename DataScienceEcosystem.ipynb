{
 "cells": [
  {
   "cell_type": "markdown",
   "id": "1cbd71d9-1f1d-4222-bf11-3d421b1feea8",
   "metadata": {},
   "source": [
    "# Data Science  Tools And Ecosystem"
   ]
  },
  {
   "cell_type": "markdown",
   "id": "8d90a2da-f41a-4e28-ad63-3e53f27ebe76",
   "metadata": {},
   "source": [
    "In this notebook Data Science tools and Ecosystems are summarized."
   ]
  },
  {
   "cell_type": "markdown",
   "id": "b9b606f1-0118-422d-be93-e6cac5bdf305",
   "metadata": {},
   "source": [
    "Some of the popular languages that data scientist use are:\n",
    "    1.python\n",
    "    2.r programming\n",
    "    3.SQL"
   ]
  },
  {
   "cell_type": "markdown",
   "id": "b771911d-ceda-47a8-a599-23c7c3c93198",
   "metadata": {},
   "source": [
    "Some of the commonly used libraries usedby data scientist include:\n",
    "    1.NumPy\n",
    "    2.SciPy\n",
    "    3.Matplotlib"
   ]
  },
  {
   "cell_type": "markdown",
   "id": "0c8fdda2-d388-4dd4-abad-059a9151c2a2",
   "metadata": {},
   "source": [
    "|data science tools|\n",
    "|------------------|\n",
    "|python|\n",
    "|SQL|\n",
    "|Excel|"
   ]
  },
  {
   "cell_type": "markdown",
   "id": "884af9ea-aea8-48dd-9fec-214176ed1fca",
   "metadata": {},
   "source": [
    "### Below are a few examples of evaluating arithmatic expressions in python.\n",
    "a=2\n",
    "b=3\n",
    "print(a+b)"
   ]
  },
  {
   "cell_type": "markdown",
   "id": "5380beaa-6d24-4abf-8d49-213f1a442e46",
   "metadata": {},
   "source": [
    "a=21 b=3 print(a/b)"
   ]
  },
  {
   "cell_type": "code",
   "execution_count": 2,
   "id": "e735b149-f139-4b9a-8e39-5a3525ebf567",
   "metadata": {},
   "outputs": [
    {
     "name": "stdout",
     "output_type": "stream",
     "text": [
      "17\n"
     ]
    }
   ],
   "source": [
    "print((3*4)+5)"
   ]
  },
  {
   "cell_type": "code",
   "execution_count": 3,
   "id": "41dd869f-39ec-492c-9103-fca71d8460dc",
   "metadata": {},
   "outputs": [
    {
     "name": "stdout",
     "output_type": "stream",
     "text": [
      "3.3333333333333335\n"
     ]
    }
   ],
   "source": [
    "print(200/60)"
   ]
  },
  {
   "cell_type": "markdown",
   "id": "c68b0644-a6e7-4a26-a13c-41fbcf5c8a46",
   "metadata": {},
   "source": [
    "## Author\n",
    "Pratiksha Singh"
   ]
  },
  {
   "cell_type": "code",
   "execution_count": null,
   "id": "b1113fe2-9f7c-4233-b067-cabda4a06a88",
   "metadata": {},
   "outputs": [],
   "source": []
  }
 ],
 "metadata": {
  "kernelspec": {
   "display_name": "Python",
   "language": "python",
   "name": "conda-env-python-py"
  },
  "language_info": {
   "codemirror_mode": {
    "name": "ipython",
    "version": 3
   },
   "file_extension": ".py",
   "mimetype": "text/x-python",
   "name": "python",
   "nbconvert_exporter": "python",
   "pygments_lexer": "ipython3",
   "version": "3.7.12"
  }
 },
 "nbformat": 4,
 "nbformat_minor": 5
}
